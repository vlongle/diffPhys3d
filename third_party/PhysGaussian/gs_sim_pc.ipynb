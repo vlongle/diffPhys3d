{
 "cells": [
  {
   "cell_type": "code",
   "execution_count": 7,
   "metadata": {},
   "outputs": [],
   "source": [
    "from plyfile import PlyData\n",
    "import numpy as np\n",
    "from gs_simulation_pc import load_point_cloud\n",
    "import argparse\n",
    "import math\n",
    "import cv2\n",
    "import torch\n",
    "import os\n",
    "import numpy as np\n",
    "import json\n",
    "from tqdm import tqdm\n",
    "\n",
    "# Gaussian splatting dependencies\n",
    "from utils.sh_utils import eval_sh\n",
    "from scene.gaussian_model import GaussianModel\n",
    "from diff_gaussian_rasterization import (\n",
    "    GaussianRasterizationSettings,\n",
    "    GaussianRasterizer,\n",
    ")\n",
    "from scene.cameras import Camera as GSCamera\n",
    "from gaussian_renderer import render, GaussianModel\n",
    "from utils.system_utils import searchForMaxIteration\n",
    "from utils.graphics_utils import focal2fov\n",
    "\n",
    "# MPM dependencies\n",
    "from mpm_solver_warp.engine_utils import *\n",
    "from mpm_solver_warp.mpm_solver_warp import MPM_Simulator_WARP\n",
    "import warp as wp\n",
    "\n",
    "# Particle filling dependencies\n",
    "from particle_filling.filling import *\n",
    "\n",
    "# Utils\n",
    "from utils.decode_param import *\n",
    "from utils.transformation_utils import *\n",
    "from utils.camera_view_utils import *\n",
    "from utils.render_utils import *\n",
    "import glob\n"
   ]
  },
  {
   "cell_type": "code",
   "execution_count": 2,
   "metadata": {},
   "outputs": [],
   "source": [
    "ply_path = \"model/test_white_bg_prune/point_cloud/iteration_10000/point_cloud.ply\""
   ]
  },
  {
   "cell_type": "code",
   "execution_count": 3,
   "metadata": {},
   "outputs": [
    {
     "name": "stdout",
     "output_type": "stream",
     "text": [
      "Loaded point cloud with 110322 points\n"
     ]
    },
    {
     "data": {
      "text/plain": [
       "{'pos': tensor([[-0.1087, -0.0272,  0.3206],\n",
       "         [ 0.1112, -0.0058,  0.0327],\n",
       "         [-0.0259, -0.0668,  0.3021],\n",
       "         ...,\n",
       "         [-0.2403, -0.0397,  0.3300],\n",
       "         [ 0.0653,  0.1948,  0.3095],\n",
       "         [ 0.0664,  0.1935,  0.3053]], device='cuda:0'),\n",
       " 'cov3D_precomp': tensor([[0.0100, 0.0100, 0.0100, 0.0100, 0.0100, 0.0100],\n",
       "         [0.0100, 0.0100, 0.0100, 0.0100, 0.0100, 0.0100],\n",
       "         [0.0100, 0.0100, 0.0100, 0.0100, 0.0100, 0.0100],\n",
       "         ...,\n",
       "         [0.0100, 0.0100, 0.0100, 0.0100, 0.0100, 0.0100],\n",
       "         [0.0100, 0.0100, 0.0100, 0.0100, 0.0100, 0.0100],\n",
       "         [0.0100, 0.0100, 0.0100, 0.0100, 0.0100, 0.0100]], device='cuda:0'),\n",
       " 'opacity': tensor([[0.5000],\n",
       "         [0.5000],\n",
       "         [0.5000],\n",
       "         ...,\n",
       "         [0.5000],\n",
       "         [0.5000],\n",
       "         [0.5000]], device='cuda:0'),\n",
       " 'shs': tensor([[[1.],\n",
       "          [1.],\n",
       "          [1.]],\n",
       " \n",
       "         [[1.],\n",
       "          [1.],\n",
       "          [1.]],\n",
       " \n",
       "         [[1.],\n",
       "          [1.],\n",
       "          [1.]],\n",
       " \n",
       "         ...,\n",
       " \n",
       "         [[1.],\n",
       "          [1.],\n",
       "          [1.]],\n",
       " \n",
       "         [[1.],\n",
       "          [1.],\n",
       "          [1.]],\n",
       " \n",
       "         [[1.],\n",
       "          [1.],\n",
       "          [1.]]], device='cuda:0'),\n",
       " 'screen_points': tensor([[0., 0., 0.],\n",
       "         [0., 0., 0.],\n",
       "         [0., 0., 0.],\n",
       "         ...,\n",
       "         [0., 0., 0.],\n",
       "         [0., 0., 0.],\n",
       "         [0., 0., 0.]], device='cuda:0')}"
      ]
     },
     "execution_count": 3,
     "metadata": {},
     "output_type": "execute_result"
    }
   ],
   "source": [
    "load_point_cloud(ply_path)"
   ]
  },
  {
   "cell_type": "code",
   "execution_count": 8,
   "metadata": {},
   "outputs": [
    {
     "ename": "NameError",
     "evalue": "name 'model_path' is not defined",
     "output_type": "error",
     "traceback": [
      "\u001b[0;31m---------------------------------------------------------------------------\u001b[0m",
      "\u001b[0;31mNameError\u001b[0m                                 Traceback (most recent call last)",
      "Cell \u001b[0;32mIn[8], line 5\u001b[0m\n\u001b[1;32m      1\u001b[0m \u001b[38;5;28;01mfrom\u001b[39;00m\u001b[38;5;250m \u001b[39m\u001b[38;5;21;01mgs_simulation_pc\u001b[39;00m\u001b[38;5;250m \u001b[39m\u001b[38;5;28;01mimport\u001b[39;00m initialize_resterize\n\u001b[1;32m      4\u001b[0m current_camera \u001b[38;5;241m=\u001b[39m get_camera_view(\n\u001b[0;32m----> 5\u001b[0m     \u001b[43mmodel_path\u001b[49m,\n\u001b[1;32m      6\u001b[0m     default_camera_index\u001b[38;5;241m=\u001b[39mcamera_params[\u001b[38;5;124m\"\u001b[39m\u001b[38;5;124mdefault_camera_index\u001b[39m\u001b[38;5;124m\"\u001b[39m],\n\u001b[1;32m      7\u001b[0m     center_view_world_space\u001b[38;5;241m=\u001b[39mviewpoint_center_worldspace,\n\u001b[1;32m      8\u001b[0m     observant_coordinates\u001b[38;5;241m=\u001b[39mobservant_coordinates,\n\u001b[1;32m      9\u001b[0m     show_hint\u001b[38;5;241m=\u001b[39mcamera_params[\u001b[38;5;124m\"\u001b[39m\u001b[38;5;124mshow_hint\u001b[39m\u001b[38;5;124m\"\u001b[39m],\n\u001b[1;32m     10\u001b[0m     init_azimuthm\u001b[38;5;241m=\u001b[39mcamera_params[\u001b[38;5;124m\"\u001b[39m\u001b[38;5;124minit_azimuthm\u001b[39m\u001b[38;5;124m\"\u001b[39m],\n\u001b[1;32m     11\u001b[0m     init_elevation\u001b[38;5;241m=\u001b[39mcamera_params[\u001b[38;5;124m\"\u001b[39m\u001b[38;5;124minit_elevation\u001b[39m\u001b[38;5;124m\"\u001b[39m],\n\u001b[1;32m     12\u001b[0m     init_radius\u001b[38;5;241m=\u001b[39mcamera_params[\u001b[38;5;124m\"\u001b[39m\u001b[38;5;124minit_radius\u001b[39m\u001b[38;5;124m\"\u001b[39m],\n\u001b[1;32m     13\u001b[0m     move_camera\u001b[38;5;241m=\u001b[39mcamera_params[\u001b[38;5;124m\"\u001b[39m\u001b[38;5;124mmove_camera\u001b[39m\u001b[38;5;124m\"\u001b[39m],\n\u001b[1;32m     14\u001b[0m     current_frame\u001b[38;5;241m=\u001b[39mframe,\n\u001b[1;32m     15\u001b[0m     delta_a\u001b[38;5;241m=\u001b[39mcamera_params[\u001b[38;5;124m\"\u001b[39m\u001b[38;5;124mdelta_a\u001b[39m\u001b[38;5;124m\"\u001b[39m],\n\u001b[1;32m     16\u001b[0m     delta_e\u001b[38;5;241m=\u001b[39mcamera_params[\u001b[38;5;124m\"\u001b[39m\u001b[38;5;124mdelta_e\u001b[39m\u001b[38;5;124m\"\u001b[39m],\n\u001b[1;32m     17\u001b[0m     delta_r\u001b[38;5;241m=\u001b[39mcamera_params[\u001b[38;5;124m\"\u001b[39m\u001b[38;5;124mdelta_r\u001b[39m\u001b[38;5;124m\"\u001b[39m],\n\u001b[1;32m     18\u001b[0m )\n\u001b[1;32m     21\u001b[0m rasterize \u001b[38;5;241m=\u001b[39m initialize_resterize(\n\u001b[1;32m     22\u001b[0m     current_camera, gaussians, pipeline, background\n\u001b[1;32m     23\u001b[0m )\n",
      "\u001b[0;31mNameError\u001b[0m: name 'model_path' is not defined"
     ]
    },
    {
     "ename": "",
     "evalue": "",
     "output_type": "error",
     "traceback": [
      "\u001b[1;31mThe Kernel crashed while executing code in the current cell or a previous cell. \n",
      "\u001b[1;31mPlease review the code in the cell(s) to identify a possible cause of the failure. \n",
      "\u001b[1;31mClick <a href='https://aka.ms/vscodeJupyterKernelCrash'>here</a> for more info. \n",
      "\u001b[1;31mView Jupyter <a href='command:jupyter.viewOutput'>log</a> for further details."
     ]
    }
   ],
   "source": [
    "from gs_simulation_pc import initialize_resterize\n",
    "\n",
    "\n",
    "current_camera = get_camera_view(\n",
    "    model_path,\n",
    "    default_camera_index=camera_params[\"default_camera_index\"],\n",
    "    center_view_world_space=viewpoint_center_worldspace,\n",
    "    observant_coordinates=observant_coordinates,\n",
    "    show_hint=camera_params[\"show_hint\"],\n",
    "    init_azimuthm=camera_params[\"init_azimuthm\"],\n",
    "    init_elevation=camera_params[\"init_elevation\"],\n",
    "    init_radius=camera_params[\"init_radius\"],\n",
    "    move_camera=camera_params[\"move_camera\"],\n",
    "    current_frame=frame,\n",
    "    delta_a=camera_params[\"delta_a\"],\n",
    "    delta_e=camera_params[\"delta_e\"],\n",
    "    delta_r=camera_params[\"delta_r\"],\n",
    ")\n",
    "\n",
    "\n",
    "rasterize = initialize_resterize(\n",
    "    current_camera, gaussians, pipeline, background\n",
    ")\n"
   ]
  },
  {
   "cell_type": "code",
   "execution_count": 4,
   "metadata": {},
   "outputs": [
    {
     "ename": "NameError",
     "evalue": "name 'rasterize' is not defined",
     "output_type": "error",
     "traceback": [
      "\u001b[0;31m---------------------------------------------------------------------------\u001b[0m",
      "\u001b[0;31mNameError\u001b[0m                                 Traceback (most recent call last)",
      "Cell \u001b[0;32mIn[4], line 2\u001b[0m\n\u001b[1;32m      1\u001b[0m \u001b[38;5;28;01mimport\u001b[39;00m\u001b[38;5;250m \u001b[39m\u001b[38;5;21;01mcv2\u001b[39;00m\n\u001b[0;32m----> 2\u001b[0m rendering, raddi \u001b[38;5;241m=\u001b[39m \u001b[43mrasterize\u001b[49m(\n\u001b[1;32m      3\u001b[0m     means3D\u001b[38;5;241m=\u001b[39mpos,\n\u001b[1;32m      4\u001b[0m     means2D\u001b[38;5;241m=\u001b[39minit_screen_points,\n\u001b[1;32m      5\u001b[0m     shs\u001b[38;5;241m=\u001b[39m\u001b[38;5;28;01mNone\u001b[39;00m,\n\u001b[1;32m      6\u001b[0m     colors_precomp\u001b[38;5;241m=\u001b[39mcolors_precomp,\n\u001b[1;32m      7\u001b[0m     opacities\u001b[38;5;241m=\u001b[39mopacity,\n\u001b[1;32m      8\u001b[0m     scales\u001b[38;5;241m=\u001b[39m\u001b[38;5;28;01mNone\u001b[39;00m,\n\u001b[1;32m      9\u001b[0m     rotations\u001b[38;5;241m=\u001b[39m\u001b[38;5;28;01mNone\u001b[39;00m,\n\u001b[1;32m     10\u001b[0m     cov3D_precomp\u001b[38;5;241m=\u001b[39mcov3D,\n\u001b[1;32m     11\u001b[0m )\n\u001b[1;32m     12\u001b[0m cv2_img \u001b[38;5;241m=\u001b[39m rendering\u001b[38;5;241m.\u001b[39mpermute(\u001b[38;5;241m1\u001b[39m, \u001b[38;5;241m2\u001b[39m, \u001b[38;5;241m0\u001b[39m)\u001b[38;5;241m.\u001b[39mdetach()\u001b[38;5;241m.\u001b[39mcpu()\u001b[38;5;241m.\u001b[39mnumpy()\n\u001b[1;32m     13\u001b[0m cv2_img \u001b[38;5;241m=\u001b[39m cv2\u001b[38;5;241m.\u001b[39mcvtColor(cv2_img, cv2\u001b[38;5;241m.\u001b[39mCOLOR_BGR2RGB)\n",
      "\u001b[0;31mNameError\u001b[0m: name 'rasterize' is not defined"
     ]
    }
   ],
   "source": [
    "import cv2\n",
    "rendering, raddi = rasterize(\n",
    "    means3D=pos,\n",
    "    means2D=init_screen_points,\n",
    "    shs=None,\n",
    "    colors_precomp=colors_precomp,\n",
    "    opacities=opacity,\n",
    "    scales=None,\n",
    "    rotations=None,\n",
    "    cov3D_precomp=cov3D,\n",
    ")\n",
    "cv2_img = rendering.permute(1, 2, 0).detach().cpu().numpy()\n",
    "cv2_img = cv2.cvtColor(cv2_img, cv2.COLOR_BGR2RGB)"
   ]
  },
  {
   "cell_type": "code",
   "execution_count": null,
   "metadata": {},
   "outputs": [],
   "source": []
  }
 ],
 "metadata": {
  "kernelspec": {
   "display_name": "PhysGaussian",
   "language": "python",
   "name": "python3"
  },
  "language_info": {
   "codemirror_mode": {
    "name": "ipython",
    "version": 3
   },
   "file_extension": ".py",
   "mimetype": "text/x-python",
   "name": "python",
   "nbconvert_exporter": "python",
   "pygments_lexer": "ipython3",
   "version": "3.9.21"
  }
 },
 "nbformat": 4,
 "nbformat_minor": 2
}

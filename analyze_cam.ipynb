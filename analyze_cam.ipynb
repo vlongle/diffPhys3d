{
 "cells": [
  {
   "cell_type": "code",
   "execution_count": 1,
   "metadata": {},
   "outputs": [],
   "source": [
    "import json\n",
    "import numpy as np\n",
    "\n",
    "def load_transforms(json_path):\n",
    "    with open(json_path, 'r') as f:\n",
    "        transforms = json.load(f)\n",
    "    return transforms\n",
    "\n",
    "def camera_center_from_transform(transform_matrix):\n",
    "    \"\"\"\n",
    "    Given a 4x4 camera-to-world transform matrix (in standard computer-graphics convention),\n",
    "    the camera center in world space is simply T @ [0,0,0,1].\n",
    "    \"\"\"\n",
    "    transform_matrix = np.array(transform_matrix)\n",
    "    # Multiply the matrix by the origin in camera coordinates\n",
    "    origin_cam_space = np.array([0, 0, 0, 1], dtype=np.float32)\n",
    "    center_world_space = transform_matrix @ origin_cam_space\n",
    "    return center_world_space[:3]  # Extract x, y, z\n",
    "\n",
    "def analyze_camera_positions(transforms_json):\n",
    "    # Load the entire dictionary from transforms.json\n",
    "    camera_transforms = load_transforms(transforms_json)\n",
    "    \n",
    "    # We will gather camera centers and look at their distances from the origin\n",
    "    camera_positions = []\n",
    "    \n",
    "    for frame in camera_transforms[\"frames\"]:\n",
    "        transform_matrix = frame[\"transform_matrix\"]\n",
    "        center_world = camera_center_from_transform(transform_matrix)\n",
    "        camera_positions.append(center_world)\n",
    "    \n",
    "    camera_positions = np.array(camera_positions)\n",
    "    \n",
    "    # Distances of each camera center from the world origin (0,0,0)\n",
    "    distances = np.linalg.norm(camera_positions, axis=1)\n",
    "    \n",
    "    # Basic stats\n",
    "    min_dist = distances.min()\n",
    "    max_dist = distances.max()\n",
    "    avg_dist = distances.mean()\n",
    "    \n",
    "    print(f\"Number of frames: {len(camera_positions)}\")\n",
    "    print(\"Camera centers (world space) shape:\", camera_positions.shape)\n",
    "    print(f\"Minimum distance from origin: {min_dist:.4f}\")\n",
    "    print(f\"Maximum distance from origin: {max_dist:.4f}\")\n",
    "    print(f\"Average distance from origin: {avg_dist:.4f}\")\n",
    "    \n",
    "    # A simple heuristic for near/far could be around:\n",
    "    near_plane = max(0.1, min_dist * 0.8)\n",
    "    far_plane  = max_dist * 1.5\n",
    "    \n",
    "    print(\"Suggested near plane:\", near_plane)\n",
    "    print(\"Suggested far plane:\", far_plane)\n"
   ]
  },
  {
   "cell_type": "code",
   "execution_count": 3,
   "metadata": {},
   "outputs": [
    {
     "name": "stdout",
     "output_type": "stream",
     "text": [
      "Number of frames: 100\n",
      "Camera centers (world space) shape: (100, 3)\n",
      "Minimum distance from origin: 0.9000\n",
      "Maximum distance from origin: 0.9000\n",
      "Average distance from origin: 0.9000\n",
      "Suggested near plane: 0.7199999336738787\n",
      "Suggested far plane: 1.3500000528186837\n"
     ]
    }
   ],
   "source": [
    "cam_dist = 1.8\n",
    "transforms_json_path = f\"data/ecb91f433f144a7798724890f0528b23_cam_{cam_dist}/transforms.json\"\n",
    "analyze_camera_positions(transforms_json_path)"
   ]
  },
  {
   "cell_type": "code",
   "execution_count": 4,
   "metadata": {},
   "outputs": [
    {
     "name": "stdout",
     "output_type": "stream",
     "text": [
      "Number of frames: 100\n",
      "Camera centers (world space) shape: (100, 3)\n",
      "Minimum distance from origin: 0.6000\n",
      "Maximum distance from origin: 0.6000\n",
      "Average distance from origin: 0.6000\n",
      "Suggested near plane: 0.47999999570684554\n",
      "Suggested far plane: 0.9000000914054104\n"
     ]
    }
   ],
   "source": [
    "cam_dist = 1.2\n",
    "transforms_json_path = f\"data/ecb91f433f144a7798724890f0528b23_cam_{cam_dist}/transforms.json\"\n",
    "analyze_camera_positions(transforms_json_path)"
   ]
  },
  {
   "cell_type": "code",
   "execution_count": null,
   "metadata": {},
   "outputs": [],
   "source": [
    "actual_planes = [2, 6]"
   ]
  }
 ],
 "metadata": {
  "kernelspec": {
   "display_name": "diff3d",
   "language": "python",
   "name": "python3"
  },
  "language_info": {
   "codemirror_mode": {
    "name": "ipython",
    "version": 3
   },
   "file_extension": ".py",
   "mimetype": "text/x-python",
   "name": "python",
   "nbconvert_exporter": "python",
   "pygments_lexer": "ipython3",
   "version": "3.8.20"
  }
 },
 "nbformat": 4,
 "nbformat_minor": 2
}

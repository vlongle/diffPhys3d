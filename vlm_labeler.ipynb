{
 "cells": [
  {
   "cell_type": "code",
   "execution_count": 2,
   "metadata": {},
   "outputs": [
    {
     "name": "stdout",
     "output_type": "stream",
     "text": [
      "response: ```json\n",
      "{\n",
      "\"is_appropriate\": false,\n",
      "\"reason\": \"The image contains a piece of paper in addition to the object, which appears to be wood or bark. We are looking for images that depict only a single object.\"\n",
      "}\n",
      "```\n"
     ]
    }
   ],
   "source": [
    "from vlmx.agent import Agent, AgentConfig\n",
    "from dotenv import load_dotenv\n",
    "import os\n",
    "from PIL import Image\n",
    "\n",
    "# Load API key from .env file\n",
    "load_dotenv()\n",
    "API_KEY = os.environ.get('API_KEY')\n",
    "\n",
    "class_name = \"tree, ficus, fern\"\n",
    "SYSTEM_INSTRUCTION = \"\"\"\n",
    "We need to select some images of the classes: {class_name}. We will provide you some image rendered from the 3d model. You need to either return True or False. \n",
    "Return False to reject the image as inappropriate for the video game development. Some common reasons for rejection:\n",
    "- The image doesn't clearly depict the object class\n",
    "- The image contains other things in addition to the object. REMEMBER, we only want images that depict ONE SINGLE OBJECT belong to one of the classes.\n",
    "\n",
    "The return format is\n",
    "```json\n",
    "{\n",
    "\"is_appropriate\": true (or false),\n",
    "\"reason\": \"reason for the decision\"\n",
    "}\n",
    "```\n",
    "\"\"\"\n",
    "\n",
    "ADDITIONAL_INSTRUCTION = \"\"\"\n",
    "We'll be using the 3d models to learn physic parameters like material and young modulus to simulate the physics of the object.\n",
    "E.g., the tree swaying in the wind. Therefore, you need to decide if the image depicts an object that is likely to be used in a physics simulation.\n",
    "\"\"\"\n",
    "\n",
    "class HelperAgent(Agent):\n",
    "    OUT_RESULT_PATH = \"test.txt\"\n",
    "\n",
    "    def _make_system_instruction(self):\n",
    "        return SYSTEM_INSTRUCTION + ADDITIONAL_INSTRUCTION\n",
    "\n",
    "    def _make_prompt_parts(self, image_path: str):\n",
    "        question = [\"The image is :\", Image.open(image_path)]\n",
    "        return question\n",
    "\n",
    "    def parse_response(self, response):\n",
    "        print(\"response:\", response.text)\n",
    "        ## string_to_file(response.txt, \"path.txt\")\n",
    "\n",
    "\n",
    "# Initialize the agent\n",
    "agent = HelperAgent(AgentConfig(\n",
    "    model_name=\"gemini-2.0-flash-thinking-exp-01-21\",\n",
    "    out_dir=\"test_results\",\n",
    "    api_key=API_KEY\n",
    "))\n",
    "\n",
    "image_path = \"class_render_outputs/tree/000-109/99a6191de63b4a568926f4009c91e646/000.png\"\n",
    "# Generate a prediction\n",
    "response = agent.generate_prediction(image_path)"
   ]
  },
  {
   "cell_type": "code",
   "execution_count": null,
   "metadata": {},
   "outputs": [],
   "source": []
  }
 ],
 "metadata": {
  "kernelspec": {
   "display_name": "vlmx",
   "language": "python",
   "name": "python3"
  },
  "language_info": {
   "codemirror_mode": {
    "name": "ipython",
    "version": 3
   },
   "file_extension": ".py",
   "mimetype": "text/x-python",
   "name": "python",
   "nbconvert_exporter": "python",
   "pygments_lexer": "ipython3",
   "version": "3.9.21"
  }
 },
 "nbformat": 4,
 "nbformat_minor": 2
}

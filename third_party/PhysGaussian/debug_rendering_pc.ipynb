{
 "cells": [
  {
   "cell_type": "code",
   "execution_count": 1,
   "metadata": {},
   "outputs": [],
   "source": [
    "plt_folder = \"nerf_pc_custom_matplotlib_output\"\n",
    "trimesh_folder = \"nerf_pc_custom_output\""
   ]
  },
  {
   "cell_type": "code",
   "execution_count": 2,
   "metadata": {},
   "outputs": [],
   "source": [
    "n_frames = 20\n",
    "\n",
    "import numpy as np\n",
    "import os"
   ]
  },
  {
   "cell_type": "code",
   "execution_count": 6,
   "metadata": {},
   "outputs": [
    {
     "data": {
      "text/plain": [
       "(20, 20162, 3)"
      ]
     },
     "execution_count": 6,
     "metadata": {},
     "output_type": "execute_result"
    }
   ],
   "source": [
    "output_path = plt_folder\n",
    "\n",
    "plt_positions = []\n",
    "for frame_number in range(n_frames):\n",
    "    plt_positions.append(np.load(os.path.join(output_path, f\"{frame_number:04d}_positions.npy\")))\n",
    "\n",
    "plt_positions = np.array(plt_positions)\n",
    "plt_positions.shape ## (num_frames, num_particles, 3)"
   ]
  },
  {
   "cell_type": "code",
   "execution_count": 7,
   "metadata": {},
   "outputs": [
    {
     "data": {
      "text/plain": [
       "(20, 20162, 3)"
      ]
     },
     "execution_count": 7,
     "metadata": {},
     "output_type": "execute_result"
    }
   ],
   "source": [
    "output_path = trimesh_folder\n",
    "trimesh_positions = []\n",
    "for frame_number in range(n_frames):\n",
    "    trimesh_positions.append(np.load(os.path.join(output_path, f\"{frame_number:04d}_positions.npy\")))\n",
    "\n",
    "trimesh_positions = np.array(trimesh_positions)\n",
    "trimesh_positions.shape ## (num_frames, num_particles, 3)"
   ]
  },
  {
   "cell_type": "code",
   "execution_count": 8,
   "metadata": {},
   "outputs": [
    {
     "data": {
      "text/plain": [
       "array([[[ 1.1920929e-07, -2.3841858e-07,  0.0000000e+00],\n",
       "        [ 0.0000000e+00, -1.1920929e-07,  0.0000000e+00],\n",
       "        [ 0.0000000e+00,  0.0000000e+00, -1.1920929e-07],\n",
       "        ...,\n",
       "        [ 0.0000000e+00,  0.0000000e+00,  0.0000000e+00],\n",
       "        [ 0.0000000e+00,  5.9604645e-08,  0.0000000e+00],\n",
       "        [ 0.0000000e+00,  0.0000000e+00,  0.0000000e+00]],\n",
       "\n",
       "       [[ 1.1920929e-07, -3.5762787e-07, -2.3841858e-07],\n",
       "        [ 3.5762787e-07, -5.9604645e-07, -1.1920929e-07],\n",
       "        [ 1.1920929e-07,  2.3841858e-07, -4.7683716e-07],\n",
       "        ...,\n",
       "        [ 0.0000000e+00,  0.0000000e+00,  1.1920929e-07],\n",
       "        [ 1.1920929e-07,  5.9604645e-08, -4.7683716e-07],\n",
       "        [ 0.0000000e+00,  5.9604645e-08, -4.7683716e-07]],\n",
       "\n",
       "       [[-1.1920929e-07, -8.3446503e-07, -4.7683716e-07],\n",
       "        [ 2.3841858e-07,  7.1525574e-07, -1.1920929e-07],\n",
       "        [ 2.3841858e-07,  2.3841858e-07, -5.9604645e-07],\n",
       "        ...,\n",
       "        [-1.1920929e-07,  5.9604645e-08,  2.3841858e-07],\n",
       "        [ 0.0000000e+00, -2.9802322e-07, -9.5367432e-07],\n",
       "        [ 1.1920929e-07,  1.7881393e-07, -4.7683716e-07]],\n",
       "\n",
       "       ...,\n",
       "\n",
       "       [[-3.5762787e-07,  3.0994415e-06, -7.1525574e-07],\n",
       "        [ 1.1920929e-07,  2.5033951e-06,  2.3841858e-07],\n",
       "        [ 1.3113022e-06, -3.5762787e-07,  0.0000000e+00],\n",
       "        ...,\n",
       "        [-1.1920929e-07,  5.3644180e-07,  9.5367432e-07],\n",
       "        [-7.1525574e-07, -1.0132790e-06, -1.1920929e-06],\n",
       "        [-2.3841858e-07,  2.9802322e-07, -9.5367432e-07]],\n",
       "\n",
       "       [[-1.1920929e-07,  2.8610229e-06, -9.5367432e-07],\n",
       "        [ 3.5762787e-07,  2.9802322e-06,  3.5762787e-07],\n",
       "        [ 1.4305115e-06, -4.7683716e-07,  3.5762787e-07],\n",
       "        ...,\n",
       "        [-1.1920929e-07,  8.3446503e-07,  8.3446503e-07],\n",
       "        [-7.1525574e-07, -1.1324883e-06, -9.5367432e-07],\n",
       "        [-4.7683716e-07,  5.3644180e-07, -1.0728836e-06]],\n",
       "\n",
       "       [[-1.1920929e-07,  3.0994415e-06, -9.5367432e-07],\n",
       "        [ 3.5762787e-07,  3.2186508e-06,  5.9604645e-07],\n",
       "        [ 8.3446503e-07, -1.1920929e-07,  4.7683716e-07],\n",
       "        ...,\n",
       "        [-3.5762787e-07,  8.3446503e-07,  8.3446503e-07],\n",
       "        [-8.3446503e-07, -1.1324883e-06, -9.5367432e-07],\n",
       "        [-4.7683716e-07,  5.3644180e-07, -1.0728836e-06]]], dtype=float32)"
      ]
     },
     "execution_count": 8,
     "metadata": {},
     "output_type": "execute_result"
    }
   ],
   "source": [
    "diff = plt_positions - trimesh_positions\n",
    "diff"
   ]
  },
  {
   "cell_type": "code",
   "execution_count": 11,
   "metadata": {},
   "outputs": [
    {
     "name": "stdout",
     "output_type": "stream",
     "text": [
      "False\n",
      "1.0669231e-05\n"
     ]
    }
   ],
   "source": [
    "## check if diff is close to zero\n",
    "print(np.allclose(diff, 0))\n",
    "## check if diff is small\n",
    "print(np.max(np.abs(diff)))"
   ]
  },
  {
   "cell_type": "code",
   "execution_count": 12,
   "metadata": {},
   "outputs": [
    {
     "data": {
      "text/plain": [
       "'4.6.5'"
      ]
     },
     "execution_count": 12,
     "metadata": {},
     "output_type": "execute_result"
    }
   ],
   "source": [
    "import trimesh\n",
    "trimesh.__version__"
   ]
  },
  {
   "cell_type": "code",
   "execution_count": null,
   "metadata": {},
   "outputs": [],
   "source": []
  }
 ],
 "metadata": {
  "kernelspec": {
   "display_name": "diffphys3d",
   "language": "python",
   "name": "python3"
  },
  "language_info": {
   "codemirror_mode": {
    "name": "ipython",
    "version": 3
   },
   "file_extension": ".py",
   "mimetype": "text/x-python",
   "name": "python",
   "nbconvert_exporter": "python",
   "pygments_lexer": "ipython3",
   "version": "3.8.20"
  }
 },
 "nbformat": 4,
 "nbformat_minor": 2
}
